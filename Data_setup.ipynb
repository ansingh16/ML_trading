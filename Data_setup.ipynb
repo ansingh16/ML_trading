{
 "cells": [
  {
   "cell_type": "code",
   "execution_count": 15,
   "metadata": {},
   "outputs": [],
   "source": [
    "import pandas as pd\n",
    "from pathlib import Path\n",
    "import requests\n",
    "from io import BytesIO\n",
    "from zipfile import ZipFile, BadZipFile\n",
    "import numpy as np\n",
    "import pandas_datareader.data as web\n",
    "from sklearn.datasets import fetch_openml\n",
    "\n",
    "pd.set_option('display.expand_frame_repr', False)\n",
    "\n",
    "import warnings\n",
    "warnings.filterwarnings('ignore')\n",
    "\n",
    "\n"
   ]
  },
  {
   "cell_type": "markdown",
   "metadata": {},
   "source": [
    "### Quandle data"
   ]
  },
  {
   "cell_type": "code",
   "execution_count": null,
   "metadata": {},
   "outputs": [],
   "source": [
    "# get data downloaded from NASDAQ via Quandl\n",
    "df = (pd.read_csv('../Findata/wiki_prices.csv',\n",
    "                 parse_dates=['date'],\n",
    "                 index_col=['date', 'ticker'],\n",
    "                 infer_datetime_format=True)\n",
    "     .sort_index())\n",
    "\n",
    "# stock names\n",
    "df_wiki = pd.read_csv('../Findata/wiki_stocks.csv')\n",
    "\n",
    "# data path\n",
    "data_path = Path('..') / 'Findata' / 'data.h5'\n",
    "\n",
    "# store hdf5 file for easy access\n",
    "with pd.HDFStore(data_path) as store:\n",
    "    store.put('quandl/wiki/prices', df)\n",
    "    store.put('quandl/wiki/stocks', df_wiki)"
   ]
  },
  {
   "cell_type": "code",
   "execution_count": 10,
   "metadata": {},
   "outputs": [
    {
     "name": "stdout",
     "output_type": "stream",
     "text": [
      "<class 'pandas.core.frame.DataFrame'>\n",
      "MultiIndex: 15389314 entries, (Timestamp('1962-01-02 00:00:00'), 'ARNC') to (Timestamp('2018-03-27 00:00:00'), 'ZUMZ')\n",
      "Data columns (total 12 columns):\n",
      " #   Column       Dtype  \n",
      "---  ------       -----  \n",
      " 0   open         float64\n",
      " 1   high         float64\n",
      " 2   low          float64\n",
      " 3   close        float64\n",
      " 4   volume       float64\n",
      " 5   ex-dividend  float64\n",
      " 6   split_ratio  float64\n",
      " 7   adj_open     float64\n",
      " 8   adj_high     float64\n",
      " 9   adj_low      float64\n",
      " 10  adj_close    float64\n",
      " 11  adj_volume   float64\n",
      "dtypes: float64(12)\n",
      "memory usage: 1.4+ GB\n"
     ]
    }
   ],
   "source": [
    "df.info()"
   ]
  },
  {
   "cell_type": "markdown",
   "metadata": {},
   "source": [
    "### S&P500 data"
   ]
  },
  {
   "cell_type": "code",
   "execution_count": 21,
   "metadata": {},
   "outputs": [],
   "source": [
    "\n",
    "# S&P500 data\n",
    "sp500 = web.DataReader(name='SP500', data_source='fred', start=2009).squeeze().to_frame('close')\n",
    "\n",
    "# get S&P500 constituents\n",
    "url = 'https://en.wikipedia.org/wiki/List_of_S%26P_500_companies'\n",
    "sp500cons = pd.read_html(url, header=0)[0]\n",
    "\n",
    "# rename columns\n",
    "sp500cons.columns = ['ticker','name', 'sec_filings', 'gics_sector', 'location', 'first_added', 'cik', 'founded']\n",
    "\n",
    "# store in hdf5\n",
    "with pd.HDFStore(data_path) as store:\n",
    "    store.put('sp500/fred', sp500)\n",
    "    store.put('sp500/stocks', sp500cons)"
   ]
  },
  {
   "cell_type": "markdown",
   "metadata": {},
   "source": [
    "### Metadata of companies"
   ]
  },
  {
   "cell_type": "code",
   "execution_count": 70,
   "metadata": {},
   "outputs": [
    {
     "name": "stdout",
     "output_type": "stream",
     "text": [
      "(309, 11) (4158, 11) (2843, 11)\n"
     ]
    }
   ],
   "source": [
    "\n",
    "# get NYSE, NASDAQ, and AMEX stock data\n",
    "amex = pd.read_csv('../Findata/amex.csv')\n",
    "nasdaq = pd.read_csv('../Findata/nasdaq.csv')\n",
    "nyse = pd.read_csv('../Findata/nyse.csv')\n",
    "\n",
    "print(amex.shape, nasdaq.shape, nyse.shape)\n",
    "\n",
    "# concat all\n",
    "df_all = pd.concat([amex, nasdaq, nyse])\n",
    "# rename columns\n",
    "df_all.rename(columns=str.lower,inplace=True)\n",
    "df_all.columns = df_all.columns.str.replace(' ','')\n",
    "df_all.rename(columns={'symbol':'ticker'},inplace=True)\n",
    "\n",
    "# set index\n",
    "df_all.set_index('ticker',inplace=True)\n",
    "\n",
    "# drop columns\n",
    "df_all.drop(columns=['%change','country','volume','netchange'],inplace=True)\n",
    "\n",
    "# drop duplicates\n",
    "df_all = df_all[~df_all.index.duplicated(keep='first')]\n",
    "\n",
    "# store data in csv\n",
    "df_all.to_csv('../Findata/us_equity_metadata.csv')"
   ]
  },
  {
   "cell_type": "code",
   "execution_count": 74,
   "metadata": {},
   "outputs": [],
   "source": [
    "with pd.HDFStore(data_path) as store:\n",
    "    store.put('us_equities/stocks', df_all)"
   ]
  }
 ],
 "metadata": {
  "kernelspec": {
   "display_name": "myenv_ldconf",
   "language": "python",
   "name": "myenv_ldconf"
  },
  "language_info": {
   "codemirror_mode": {
    "name": "ipython",
    "version": 3
   },
   "file_extension": ".py",
   "mimetype": "text/x-python",
   "name": "python",
   "nbconvert_exporter": "python",
   "pygments_lexer": "ipython3",
   "version": "3.9.18"
  }
 },
 "nbformat": 4,
 "nbformat_minor": 2
}
