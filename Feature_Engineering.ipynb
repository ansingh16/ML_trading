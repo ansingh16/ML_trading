{
 "cells": [
  {
   "cell_type": "markdown",
   "metadata": {},
   "source": [
    "## Feature Engineering"
   ]
  },
  {
   "cell_type": "code",
   "execution_count": 5,
   "metadata": {},
   "outputs": [],
   "source": [
    "# Load the datasets amd load the libraries\n",
    "import pandas as pd\n",
    "import numpy as np\n",
    "import matplotlib.pyplot as plt\n",
    "\n",
    "import warnings\n",
    "warnings.filterwarnings('ignore')\n",
    "\n",
    "data_path = '../Findata/data.h5'\n"
   ]
  },
  {
   "cell_type": "markdown",
   "metadata": {},
   "source": [
    "### Read the data"
   ]
  },
  {
   "cell_type": "code",
   "execution_count": 52,
   "metadata": {},
   "outputs": [],
   "source": [
    "# set start date and end date\n",
    "start_year = '1990'\n",
    "end_year = '2000'\n",
    "\n",
    "# read dataset\n",
    "with pd.HDFStore(data_path) as store:\n",
    "    \n",
    "    # get stock prices \n",
    "    stocks_prices = (store['quandl/wiki/prices']\n",
    "                    .loc[pd.IndexSlice[str(start_year):str(end_year), :], 'adj_close'])\n",
    "    \n",
    "    # unstack ticker to get ticker as columns and date as index\n",
    "    stocks_prices = stocks_prices.unstack('ticker')\n",
    "\n",
    "    # get metadata\n",
    "    stocks_meta = store['us_equities/stocks'].loc[:,['marketcap', 'ipoyear', 'sector']]\n",
    "\n",
    "    # get common stocks between stock prices and metadata\n",
    "    common = stocks_prices.columns.intersection(stocks_meta.index)\n",
    "    \n",
    "    # get prices and meta data for common stocks\n",
    "    stocks_meta = stocks_meta.loc[common]\n",
    "    stocks_prices= stocks_prices[stocks_meta.index]\n"
   ]
  },
  {
   "cell_type": "markdown",
   "metadata": {},
   "source": [
    "### Get returns for different lags"
   ]
  },
  {
   "cell_type": "code",
   "execution_count": 57,
   "metadata": {},
   "outputs": [],
   "source": [
    "# change the frequency to monthly taking the last price for each month\n",
    "stocks_prices_monthly = stocks_prices.resample('M').last()\n",
    "\n",
    "# get monthly to yearly returns\n",
    "lags = [1,3,6,9,12]\n",
    "\n",
    "monthly_stats = pd.DataFrame()\n",
    "outlier_cutoff = 0.01\n",
    "for lag in lags:\n",
    "    monthly_stats['return_'+str(lag)] = (stocks_prices_monthly\n",
    "                .pct_change(lag).stack() # get returns for each lag\n",
    "                .pipe(lambda x: x.clip(lower=x.quantile(outlier_cutoff),upper=x.quantile(1-outlier_cutoff))) # clip the outliers\n",
    "                .add(1) # add one and take geometric mean\n",
    "                .pow(1/lag)\n",
    "                .sub(1)\n",
    "\n",
    "    )\n",
    "\n",
    "# swap date level with ticker level\n",
    "monthly_stats = monthly_stats.swaplevel().dropna()\n"
   ]
  },
  {
   "cell_type": "code",
   "execution_count": 49,
   "metadata": {},
   "outputs": [],
   "source": [
    "assert stocks_prices.shape[1] == stocks_meta.shape[0]\n"
   ]
  },
  {
   "cell_type": "code",
   "execution_count": null,
   "metadata": {},
   "outputs": [],
   "source": []
  }
 ],
 "metadata": {
  "kernelspec": {
   "display_name": "myenv_ldconf",
   "language": "python",
   "name": "myenv_ldconf"
  },
  "language_info": {
   "codemirror_mode": {
    "name": "ipython",
    "version": 3
   },
   "file_extension": ".py",
   "mimetype": "text/x-python",
   "name": "python",
   "nbconvert_exporter": "python",
   "pygments_lexer": "ipython3",
   "version": "3.9.18"
  }
 },
 "nbformat": 4,
 "nbformat_minor": 2
}
